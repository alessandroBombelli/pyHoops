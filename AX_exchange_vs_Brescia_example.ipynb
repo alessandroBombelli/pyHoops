{
 "cells": [
  {
   "cell_type": "code",
   "execution_count": 3,
   "metadata": {},
   "outputs": [],
   "source": [
    "import sys\n",
    "import os\n",
    "# If running the code in the same folder as the package pyHoops.py, replace\n",
    "# \"from pyHoops import pyHoops\" with \"import pyHoops\" \n",
    "from pyHoops import pyHoops"
   ]
  },
  {
   "cell_type": "code",
   "execution_count": 4,
   "metadata": {},
   "outputs": [],
   "source": [
    "# Path to current folder\n",
    "cwd             = os.getcwd()\n",
    "\n",
    "# List of teams and associated logos. An additional logo is added, to be associated\n",
    "# with teams that do not have a logo in the folder\n",
    "team_list = ['brescia','brindisi','cantu','cremona','fortitudobologna',\n",
    "'milano','pesaro','pistoia','reggioemilia','roma','sassari','trentino',\n",
    "'treviso','trieste','varese','venezia','virtusbologna']\n",
    "\n",
    "team_list_logos = ['Brescia.png','Brindisi.png','Cantu.png','Cremona.png',\n",
    "                   'Fortitudo_Bologna.png','Milano.png'\t,'Pesaro.png',\n",
    "                   'Pistoia.png','Reggio_Emilia.png','Roma.png','Sassari.png',\n",
    "                   'Trentino.png','Treviso.png','Trieste.png','Varese.png',\n",
    "                   'Venezia.png','Virtus_Bologna.png','LBA_logo.png'] "
   ]
  },
  {
   "cell_type": "code",
   "execution_count": 5,
   "metadata": {},
   "outputs": [],
   "source": [
    "# TEST 3: Armani Milano - Brescia (2019-2020 season)\n",
    "thisUrl         = 'http://web.legabasket.it/game/1672517/a_x_armani_exchange_milano-germani_basket_brescia-65:73/pbp'\n",
    "thisUrlBoxscore = 'http://web.legabasket.it/game/1672517/a_x_armani_exchange_milano-germani_basket_brescia-65:73'"
   ]
  },
  {
   "cell_type": "code",
   "execution_count": 6,
   "metadata": {},
   "outputs": [
    {
     "name": "stdout",
     "output_type": "stream",
     "text": [
      "###########################################################\n",
      "Game analyzed is: a|x armani exchange milano vs germani basket brescia\n",
      "###########################################################\n"
     ]
    }
   ],
   "source": [
    "############################################### \n",
    "# Extracting all play-by-play info from webpage\n",
    "###############################################      \n",
    "df,homeTeam,awayTeam = pyHoops.web_parse_playbyplay(thisUrl)\n",
    "\n",
    "################# \n",
    "# Print game info\n",
    "#################\n",
    "pyHoops.print_game_analyzed(homeTeam,awayTeam)"
   ]
  },
  {
   "cell_type": "code",
   "execution_count": 7,
   "metadata": {},
   "outputs": [],
   "source": [
    "###################################################### \n",
    "# Extracting boxscores (home + away team) from webpage\n",
    "######################################################      \n",
    "dfHomeTeam,dfAwayTeam = pyHoops.web_parse_boxscores(thisUrlBoxscore)\n",
    "\n",
    "#############################################################\n",
    "# Determining idx of logo picture for home team and away team\n",
    "#############################################################\n",
    "string_homeTeam = df.loc[0][0]\n",
    "string_awayTeam = df.loc[0][2]\n",
    "idx_logo_homeTeam,idx_logo_awayTeam = pyHoops.determine_team_logo(string_homeTeam,string_awayTeam,team_list)\n",
    "\n",
    "################################################################\n",
    "### Determining indices in the df dataframe where minutes change\n",
    "### (to keep track of on-court time)\n",
    "################################################################\n",
    "idxMinutes,all_minutes_found = pyHoops.find_indices_minutes(df)\n",
    "\n",
    "#################################################################\n",
    "### For the home team, determine statistics for the starting five\n",
    "### and bench (own team and opposing team)\n",
    "#################################################################\n",
    "(df_homeTeam_startingFive_homeTeamStats,\n",
    " df_homeTeam_startingFive_oppTeamStats,\n",
    " df_homeTeam_bench_homeTeamStats,\n",
    " df_homeTeam_bench_oppTeamStats,\n",
    " df_homeTeam_startingPlusBench_ownTeamStats_aggr,\n",
    " df_homeTeam_startingPlusBench_oppTeamStats_aggr,\n",
    " starting_five_homeTeam,\n",
    " bench_homeTeam,\n",
    " orig_idx_starting_five_homeTeam,\n",
    " orig_idx_bench_homeTeam,\n",
    " all_possible_names_starting_five_homeTeam) = pyHoops.get_homeTeam_stats_perPlayer(df,\n",
    "                                                dfHomeTeam,idxMinutes,all_minutes_found,cwd)\n",
    "\n",
    "#################################################################\n",
    "### For the away team, determine statistics for the starting five\n",
    "### and bench (own team and opposing team)\n",
    "#################################################################\n",
    "(df_awayTeam_startingFive_ownTeamStats,\n",
    " df_awayTeam_startingFive_oppTeamStats,\n",
    " df_awayTeam_bench_ownTeamStats,\n",
    " df_awayTeam_bench_oppTeamStats,\n",
    " df_awayTeam_startingPlusBench_ownTeamStats_aggr,\n",
    " df_awayTeam_startingPlusBench_oppTeamStats_aggr,\n",
    " starting_five_awayTeam,\n",
    " bench_awayTeam,\n",
    " orig_idx_starting_five_awayTeam,\n",
    " orig_idx_bench_awayTeam,\n",
    " all_possible_names_starting_five_awayTeam)  = pyHoops.get_awayTeam_stats_perPlayer(df,\n",
    "                                                dfAwayTeam,idxMinutes,all_minutes_found,cwd)\n",
    "\n",
    "###########################################\n",
    "### For the home team, determine statistics\n",
    "### for the different lineups\n",
    "###########################################\n",
    "(df_homeTeam_lineups_ownTeamStats,\n",
    " df_homeTeam_lineups_oppTeamStats,\n",
    " df_homeTeam_lineups_ownTeamStats_aggr,\n",
    " df_homeTeam_lineups_oppTeamStats_aggr) = pyHoops.get_homeTeam_stats_perLineup(df,dfHomeTeam,\n",
    "                                                     starting_five_homeTeam,bench_homeTeam,idxMinutes,all_minutes_found,cwd)\n",
    "\n",
    "###########################################\n",
    "### For the away team, determine statistics\n",
    "### for the different lineups\n",
    "###########################################\n",
    "(df_awayTeam_lineups_ownTeamStats,\n",
    " df_awayTeam_lineups_oppTeamStats,\n",
    " df_awayTeam_lineups_ownTeamStats_aggr,\n",
    " df_awayTeam_lineups_oppTeamStats_aggr) = pyHoops.get_awayTeam_stats_perLineup(df,dfAwayTeam,\n",
    "                                                     starting_five_awayTeam,bench_awayTeam,idxMinutes,all_minutes_found,cwd)\n"
   ]
  },
  {
   "cell_type": "code",
   "execution_count": 8,
   "metadata": {},
   "outputs": [
    {
     "name": "stdout",
     "output_type": "stream",
     "text": [
      "              Player  1pm  1pa  2pm  2pa  dunk  3pm  3pa  dreb  oreb  ass  st  \\\n",
      "0    abassabassawudu    4    4   11   22     1    5   11    14     5    9   2   \n",
      "1          caintyler    7    8   14   28     2    4   12    21     8   10   4   \n",
      "2          hortonken    8   10   17   29     2    5   14    24     7   13   5   \n",
      "3   lansdownedeandre    8   10   18   31     2    6   17    22     9   15   5   \n",
      "4  laquintanatommaso    9   10   10   15     1    0   10    11     2    4   5   \n",
      "\n",
      "   to  blk  blkag   f  frec  min  \n",
      "0   8    0      0  14     7    0  \n",
      "1  13    2      0  13    13    0  \n",
      "2  10    3      0  13    15    0  \n",
      "3  10    2      0  18    14    0  \n",
      "4   5    3      0  11    10    0  \n",
      "                                              Lineup  1pm  1pa  2pm  2pa  \\\n",
      "0  abassabassawuducaintylerhortonkenlansdownedean...    0    0    6    9   \n",
      "1  abassabassawuducaintylerhortonkenlansdownedean...    2    2    1    1   \n",
      "2  abassabassawuducaintylerhortonkenmossdavidvita...    0    0    0    0   \n",
      "3  abassabassawuducaintylerhortonkenmossdavidvita...    0    0    1    3   \n",
      "4  abassabassawuducaintylermossdavidsacchettibria...    0    0    0    1   \n",
      "\n",
      "   dunk  3pm  3pa  dreb  oreb  ass  st  to  blk  blkag  f  frec  min  \n",
      "0     1    1    1     5     1    1   0   0    0      0  2     1    0  \n",
      "1     0    0    0     1     0    0   0   0    1      0  1     0    0  \n",
      "2     0    0    0     2     0    0   0   1    0      0  0     1    0  \n",
      "3     0    1    2     4     0    0   1   3    0      0  2     3    0  \n",
      "4     0    0    0     1     0    0   0   1    0      0  1     0    0  \n"
     ]
    }
   ],
   "source": [
    "# Plotting some samples of the databases that we created\n",
    "\n",
    "print(df_awayTeam_startingPlusBench_ownTeamStats_aggr.head())\n",
    "print(df_awayTeam_lineups_ownTeamStats.head())"
   ]
  }
 ],
 "metadata": {
  "kernelspec": {
   "display_name": "py37",
   "language": "python",
   "name": "py37"
  },
  "language_info": {
   "codemirror_mode": {
    "name": "ipython",
    "version": 3
   },
   "file_extension": ".py",
   "mimetype": "text/x-python",
   "name": "python",
   "nbconvert_exporter": "python",
   "pygments_lexer": "ipython3",
   "version": "3.7.4"
  }
 },
 "nbformat": 4,
 "nbformat_minor": 2
}
